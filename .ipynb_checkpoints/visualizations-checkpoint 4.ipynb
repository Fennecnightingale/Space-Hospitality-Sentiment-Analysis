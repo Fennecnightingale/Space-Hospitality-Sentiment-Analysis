{
 "cells": [
  {
   "cell_type": "code",
   "execution_count": 6,
   "metadata": {},
   "outputs": [],
   "source": [
    "import pandas as pd\n",
    "import numpy as np\n",
    "import matplotlib as plt\n",
    "%matplotlib inline\n",
    "import seaborn as sns"
   ]
  },
  {
   "cell_type": "code",
   "execution_count": null,
   "metadata": {},
   "outputs": [],
   "source": [
    "The latter approach would be an unsupervised one,\n",
    "and this one is an object of interest in this article. \n",
    "The main idea behind unsupervised learning is that you \n",
    "don’t give any previous assumptions and definitions to \n",
    "the model about the outcome of variables you feed into \n",
    "it — you simply insert the data (of course preprocessed before), \n",
    "and want the model to learn the structure of the data itself. \n",
    "It is extremely useful in cases when you don’t have labeled data, \n",
    "or you are not sure about the structure of the data, \n",
    "and you want to learn more about the nature of process you are analyzing, \n",
    "without making any previous assumptions about its outcome."
   ]
  },
  {
   "cell_type": "code",
   "execution_count": 3,
   "metadata": {},
   "outputs": [],
   "source": [
    "x = range(2,22)\n",
    "y = [16645.94921875\n",
    "16347.8623046875\n",
    "16079.4326171875\n",
    "15871.2568359375\n",
    "15714.0185546875\n",
    "15580.408203125\n",
    "15454.75390625\n",
    "15355.4140625\n",
    "15261.21484375\n",
    "15178.318359375\n",
    "15098.7646484375\n",
    "15021.5341796875\n",
    "14955.3232421875\n",
    "14895.1552734375\n",
    "14824.0634765625\n",
    "14779.5322265625\n",
    "14733.8828125\n",
    "14672.412109375\n",
    "14632.1494140625\n",
    "14588.498046875]"
   ]
  },
  {
   "cell_type": "code",
   "execution_count": 5,
   "metadata": {},
   "outputs": [
    {
     "data": {
      "text/plain": [
       "[2,\n",
       " 3,\n",
       " 4,\n",
       " 5,\n",
       " 6,\n",
       " 7,\n",
       " 8,\n",
       " 9,\n",
       " 10,\n",
       " 11,\n",
       " 12,\n",
       " 13,\n",
       " 14,\n",
       " 15,\n",
       " 16,\n",
       " 17,\n",
       " 18,\n",
       " 19,\n",
       " 20,\n",
       " 21,\n",
       " 22,\n",
       " 23,\n",
       " 24,\n",
       " 25]"
      ]
     },
     "execution_count": 5,
     "metadata": {},
     "output_type": "execute_result"
    }
   ],
   "source": [
    "sns.lineplot(\n",
    "    data=fmri,\n",
    "    x=\"timepoint\", y=\"signal\", hue=\"event\", style=\"event\",\n",
    "    markers=True, dashes=False\n",
    ")"
   ]
  }
 ],
 "metadata": {
  "kernelspec": {
   "display_name": "learn-env",
   "language": "python",
   "name": "learn-env"
  },
  "language_info": {
   "codemirror_mode": {
    "name": "ipython",
    "version": 3
   },
   "file_extension": ".py",
   "mimetype": "text/x-python",
   "name": "python",
   "nbconvert_exporter": "python",
   "pygments_lexer": "ipython3",
   "version": "3.6.9"
  }
 },
 "nbformat": 4,
 "nbformat_minor": 5
}

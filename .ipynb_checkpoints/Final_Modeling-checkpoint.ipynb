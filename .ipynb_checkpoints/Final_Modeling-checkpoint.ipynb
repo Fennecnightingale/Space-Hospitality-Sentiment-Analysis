{
  "nbformat": 4,
  "nbformat_minor": 5,
  "metadata": {
    "kernelspec": {
      "name": "python3",
      "display_name": "Python 3"
    },
    "colab": {
      "name": "Copy of Internet Sentiment Analysis",
      "provenance": [],
      "collapsed_sections": [],
      "machine_shape": "hm"
    },
    "language_info": {
      "name": "python"
    }
  },
  "cells": [
    {
      "cell_type": "markdown",
      "metadata": {
        "id": "69w_p3bBjXY8"
      },
      "source": [
        "# Phase 4 Reccomendation Modeling <p></p>\n",
        "Authors: Fennec Nighintgale, Matthew Lipman<p>\n",
        "\n",
        "\n",
        "\n",
        "In this notebook we will be be using the CRISP-DM process to walk through using Faiss K-means algorithm and naive Bayes to predict sentiment on space travel related tweets and YouTube comments. "
      ],
      "id": "69w_p3bBjXY8"
    },
    {
      "cell_type": "code",
      "metadata": {
        "id": "vlRRz1pxMR0H"
      },
      "source": [
        "# !pip install faiss-gpu\n",
        "# !pip install vaderSentiment"
      ],
      "id": "vlRRz1pxMR0H",
      "execution_count": 1,
      "outputs": []
    },
    {
      "cell_type": "code",
      "metadata": {
        "id": "oHcqjkqyjBSZ"
      },
      "source": [
        "# from google.colab import drive\n",
        "# drive.mount('/content/drive')"
      ],
      "id": "oHcqjkqyjBSZ",
      "execution_count": 2,
      "outputs": []
    },
    {
      "cell_type": "code",
      "metadata": {
        "id": "meaningful-solomon"
      },
      "source": [
        "import faiss\n",
        "import math\n",
        "import pandas as pd\n",
        "import numpy as np\n",
        "from datetime import datetime"
      ],
      "id": "meaningful-solomon",
      "execution_count": 3,
      "outputs": []
    },
    {
      "cell_type": "code",
      "metadata": {
        "id": "uZ8eN7o1VQgx"
      },
      "source": [
        "import scipy\n",
        "from scipy.linalg import norm\n",
        "from scipy.sparse import csr_matrix, coo_matrix, hstack, vstack\n",
        "from imblearn.combine import SMOTEENN"
      ],
      "id": "uZ8eN7o1VQgx",
      "execution_count": 4,
      "outputs": []
    },
    {
      "cell_type": "code",
      "metadata": {
        "id": "URSGZvIHVMbF"
      },
      "source": [
        "from textblob import TextBlob\n",
        "from vaderSentiment.vaderSentiment import SentimentIntensityAnalyzer"
      ],
      "id": "URSGZvIHVMbF",
      "execution_count": 5,
      "outputs": []
    },
    {
      "cell_type": "code",
      "metadata": {
        "id": "TjkfAfFXVIos"
      },
      "source": [
        "from sklearn.decomposition import TruncatedSVD\n",
        "from sklearn.naive_bayes import GaussianNB, BernoulliNB, ComplementNB\n",
        "from sklearn.preprocessing import MaxAbsScaler\n",
        "\n",
        "from sklearn.feature_extraction.text import TfidfVectorizer, \\\n",
        "                                              CountVectorizer\n",
        "from sklearn.metrics import silhouette_samples, confusion_matrix, \\\n",
        "                      accuracy_score, recall_score, precision_score, \\\n",
        "                      roc_curve, auc, roc_auc_score, confusion_matrix, \\\n",
        "                      classification_report, f1_score, r2_score\n",
        "from sklearn.model_selection import GridSearchCV, cross_val_score, \\\n",
        "                                    train_test_split, RandomizedSearchCV"
      ],
      "id": "TjkfAfFXVIos",
      "execution_count": 6,
      "outputs": []
    },
    {
      "cell_type": "code",
      "metadata": {
        "id": "gM-tXlp8dOPt"
      },
      "source": [
        "from mlxtend.plotting import plot_confusion_matrix"
      ],
      "id": "gM-tXlp8dOPt",
      "execution_count": 7,
      "outputs": []
    },
    {
      "cell_type": "code",
      "metadata": {
        "id": "VkibWzLsU4QO"
      },
      "source": [
        "%matplotlib inline\n",
        "import matplotlib.pyplot as plt\n",
        "from matplotlib import cm"
      ],
      "id": "VkibWzLsU4QO",
      "execution_count": 8,
      "outputs": []
    },
    {
      "cell_type": "markdown",
      "metadata": {
        "id": "SDeB6ab-kY_n"
      },
      "source": [
        "# Functions"
      ],
      "id": "SDeB6ab-kY_n"
    },
    {
      "cell_type": "code",
      "metadata": {
        "id": "g3Uh15bU-AQj"
      },
      "source": [
        "def get_sentiment_an(df):\n",
        "  \"\"\"\n",
        "  Given a pandas dataframe, this will shuffle it & get sentiment \n",
        "  analysis values from TextBlob & VaderSentiment & assign columns inplace.\n",
        "  Will return completed dataframe & dataframe columns we'll be using for\n",
        "  modeling as a coo_matrix. \n",
        "                Columns returned: \n",
        "  'polarity' : mean of text sentiment (TextBlob)\n",
        "  'neg': negative sentiment value (VaderSentiment)\n",
        "  'pos': positive sentiment value (VaderSentiment)\n",
        "  'neu': neutral sentiment value (VaderSeniment)\n",
        "  \"\"\"\n",
        "  # shuffling our dataframe so data is no longer sorted\n",
        "  df = df.sample(frac = 1)\n",
        "  df = df.reset_index().rename(columns={'index':'id'})\n",
        "  # getting rid of all unnessecary columns\n",
        "  df = df[['favorite_count', 'repost_count', 'text', 'id']]\n",
        "  # feature generation using polarization \n",
        "  df['polarity'] = df['text'].apply(lambda x: \n",
        "                                    TextBlob(x).sentiment.polarity)\n",
        "  # feature generation using intensity analyzer \n",
        "  analyzer = SentimentIntensityAnalyzer()\n",
        "  df['pol'] = ''\n",
        "  for i in range(len(df)):\n",
        "    sentence = df.at[i, 'text']\n",
        "    df.at[i, 'pol'] = analyzer.polarity_scores(sentence)\n",
        "  for i in range(len(df)):\n",
        "    for h in ['neg', 'neu', 'pos']:\n",
        "      df.at[i, h] = float(df['pol'][i][h])\n",
        "  #turning our other variables into a matrix to combine our features \n",
        "  maxab = MaxAbsScaler()\n",
        "  drop = ['text', 'pol', 'id']\n",
        "  hstack = maxab.fit_transform(coo_matrix(df.drop(labels = drop, axis=1)))\n",
        "  return df, hstack"
      ],
      "id": "g3Uh15bU-AQj",
      "execution_count": 30,
      "outputs": []
    },
    {
      "cell_type": "code",
      "metadata": {
        "id": "x_bngi1oG5ys"
      },
      "source": [
        "def word_transform(df):\n",
        "  \"\"\"\n",
        "  Pass in a pandas dataframe and this will return a coo_matrix\n",
        "  featuring the TFIDF vectorization of your text, with a maximum\n",
        "  of 100 features of single words and 100 features of bigrams. \n",
        "  \"\"\"\n",
        "  sing = TfidfVectorizer(max_features=100).fit_transform(df['text'])\n",
        "  bi = TfidfVectorizer(ngram_range = (2, 2), \n",
        "                       max_features=100).fit_transform(df['text'])\n",
        "  vect = coo_matrix(np.append(bi.toarray(), sing.toarray(), axis=1))\n",
        "  return vect "
      ],
      "id": "x_bngi1oG5ys",
      "execution_count": 10,
      "outputs": []
    },
    {
      "cell_type": "code",
      "metadata": {
        "id": "-zNbI3cOHixz"
      },
      "source": [
        "def svd_pca(vect, haystack):\n",
        "  \"\"\"\n",
        "  Pass in your coo_matrix of your word vectors & the scaled \n",
        "  features from your dataframe this will perform Principal Component \n",
        "  Analysis in order to keep your most relevant 100 features, calculated\n",
        "   in chunks to avoid RAM issues. It will return a numpy\n",
        "   array containing all of the data for your model. \n",
        "  \"\"\"\n",
        "  svd = TruncatedSVD(n_components=95, n_iter=250000, \n",
        "                     random_state=0, algorithm='arpack').fit(vect)\n",
        "  # splitting it so we never keep it all in RAM at once as an array \n",
        "  splits = []\n",
        "  shape = vect.shape[1]\n",
        "  tbs = vect \n",
        "  # since you cant directly index a matrix the easiest way is train_test\n",
        "  # chose 50000 since my computer can handle it \n",
        "  while shape > 50000:\n",
        "      shape -= 50000\n",
        "      # first, run through the whole matrix \n",
        "      split1, split2 = train_test_split(tbs, random_state=0, \n",
        "                                        train_size=shape)\n",
        "      #all of our leftover rows (not in the 50k) are in split2\n",
        "      tbs = split2\n",
        "      # put the chunk of our matrix into a list to iterate over later \n",
        "      splits.append(split1)\n",
        "  # append the remainder (whatever was left < 50k) to the end of our list \n",
        "  splits.append(tbs)\n",
        "  # start a new matrix by fit transforming our first chunk\n",
        "  init = coo_matrix(svd.fit_transform(splits[0]))\n",
        "  # start a loop that will fit transform and stack matricies together\n",
        "  for item in splits[1:]:\n",
        "      # fit transform will return it as a dense array \n",
        "      init = vstack([init, coo_matrix(svd.fit_transform(item))])\n",
        "  # combine our text matrix & our repost/favorite matrix\n",
        "  return np.append(haystack.toarray(), \n",
        "                   init.toarray(), axis=1).astype(np.float32)"
      ],
      "id": "-zNbI3cOHixz",
      "execution_count": 11,
      "outputs": []
    },
    {
      "cell_type": "code",
      "metadata": {
        "id": "mobile-monday"
      },
      "source": [
        "def vect_and_stck(dataframe, first_run):\n",
        "  \"\"\"\n",
        "  Pass in a DataFrame & this function will preprocess and return your\n",
        "  dataframe & all of the columns nessecary to model as an array\n",
        "  The first step is to get sentiment analysis scores, \n",
        "  which is only nessecary the first time you run this, otherwise\n",
        "  they can be turned to False to save time, \n",
        "  sentiment analysis is followed by TDIDF vectorizaton on \n",
        "  single words & bigrams, and lastly it ends with PCA to reduce \n",
        "  our dimensions to a reasonable amount. Make drop_clust True to\n",
        "  return a copy of your dataframe with no cluster column before \n",
        "  rerunning your model on it. \n",
        "  \"\"\"\n",
        "  if first_run:\n",
        "    # getting sentiment analysis columns the first time \n",
        "    dataframe, haystack = get_sentiment_an(dataframe)\n",
        "  else:\n",
        "  # keeping only of the columns we need\n",
        "    clmn = ['neg', 'neu', 'pos', 'polarity',\n",
        "            'repost_count', 'favorite_count']\n",
        "    haystack = coo_matrix(dataframe[clmn])\n",
        "  # word vectorizing \n",
        "  vect = word_transform(dataframe)\n",
        "  # return our matrix with PCA done to reduce \n",
        "  # dimensionality to 100 features as was reccomended \n",
        "  # for PCA in the documentation \n",
        "  return svd_pca(vect, haystack), dataframe"
      ],
      "id": "mobile-monday",
      "execution_count": 34,
      "outputs": []
    },
    {
      "cell_type": "code",
      "metadata": {
        "id": "lmc6Axtr3DgT"
      },
      "source": [
        "def plt_elbow(matrix, df, display):\n",
        "  \"\"\"\n",
        "  Plots your clusters from k 1-15 and returns the best one as an int,\n",
        "  if display is true it will display the elbow plot, if not it will \n",
        "  just return your value. \n",
        "  \"\"\"\n",
        "  max = 15 if display else 5\n",
        "  K = range(1,max+1)\n",
        "  # start numpy arrays to store results in \n",
        "  inrt = np.zeros(max)\n",
        "  diff = np.zeros(max)\n",
        "  diff2 = np.zeros(max)\n",
        "  diff3 = np.zeros(max)\n",
        "  for k in K:\n",
        "    kmeans, predictions, not_k = clusterizer(matrix, df, False, k=k)\n",
        "    inrt[k - 1] = kmeans.obj[-1]\n",
        "    # first difference    \n",
        "    if k > 1:\n",
        "        diff[k - 1] = inrt[k - 1] - inrt[k - 2]\n",
        "    # second difference\n",
        "    elif k > 2:\n",
        "        diff2[k - 1] = diff[k - 1] - diff[k - 2]\n",
        "    # third difference\n",
        "    elif k > 3:\n",
        "        diff3[k - 1] = diff2[k - 1] - diff2[k - 2]\n",
        "  # use differences & numpy argmin to determine best cluster\n",
        "  elbow = np.argmin(diff3[3:]) + 3\n",
        "  if display: \n",
        "    print(f'Elbow {str(elbow)}')\n",
        "    plt.plot(K, inertias, 'b*-')\n",
        "    plt.plot(K[elbow-1], inertias[elbow-1], marker='o', \n",
        "             markersize=12, markeredgewidth=2, markeredgecolor='r')\n",
        "    plt.ylabel('Inertia')\n",
        "    plt.xlabel('K')\n",
        "    plt.show()\n",
        "  return int(elbow)"
      ],
      "id": "lmc6Axtr3DgT",
      "execution_count": 13,
      "outputs": []
    },
    {
      "cell_type": "code",
      "metadata": {
        "id": "BoDm24Xzx4ZU"
      },
      "source": [
        "def chunked_samples(dataframe, stack, fit_predict, drop):\n",
        "  \"\"\"\n",
        "  Given your dataframe, feature array/matrix & predictions \n",
        "  Computes Silhouette Scores using sklearn and chunking \n",
        "  the data into sets of 75000 and returns a deep copy of\n",
        "  your dataframe with the silhouette scores in the column \n",
        "  'sil' Scores will not be perfect as this function chunks them, and \n",
        "  therefore cannot get complete pairwise distances  \n",
        "  but without chunking silhouette scores cannot be run on \n",
        "  any computer or service we can find and it will be pretty close.\n",
        "  Use drop = True to calculate the z-score of your silhouette scores\n",
        "  and get rid of the bottom 10%, assuming they're likely to be outliers. \n",
        "  \"\"\"\n",
        "  start = 0 \n",
        "  clust = 75000\n",
        "  # since this is about the most my computer can handle we'll\n",
        "  # stick to a cap of 75,000 \n",
        "  for i in range(math.ceil(stack.shape[0]/75000)):\n",
        "    # gathering our chunks \n",
        "    df = dataframe[start:start+clust].reset_index(drop=True).copy()\n",
        "    fp = np.ravel(fit_predict[start:start+clust][0:])\n",
        "    # making sure our dtypes are correct \n",
        "    if type(stack) != np.ndarray:\n",
        "      hstk = stack.toarray()[start:start+clust][0:]\n",
        "    else:\n",
        "      hstk = stack[start:start+clust][0:]\n",
        "    # getting our silhouette comments \n",
        "    df['sil'] = silhouette_samples(hstk, fp)\n",
        "    # we want to return our dataframe at the end so\n",
        "    # on our first ieration we'll start with a chunk\n",
        "    # and append to it every future iteration\n",
        "    head = df if i == 0 else head.append(df) \n",
        "    if drop:\n",
        "      # if drop = True, this will calculate and drop the \n",
        "      # lowest ~10th percentile of our silhouette scores \n",
        "      # assuming they're likely to be outliers \n",
        "      mean = head['sil'].mean()\n",
        "      std = head['sil'].std()\n",
        "      for j in head.index:\n",
        "        head.at[j, 'silstd'] = (head.at[j, 'sil'] - mean)/std\n",
        "      head = head.loc[head['silstd'] > -1.28].drop('silstd', 1)\n",
        "    head.reset_index(drop=True, inplace=True)\n",
        "    start += 75000\n",
        "  return head"
      ],
      "id": "BoDm24Xzx4ZU",
      "execution_count": 14,
      "outputs": []
    },
    {
      "cell_type": "code",
      "metadata": {
        "id": "FOHsTy3AMAxj"
      },
      "source": [
        "def quick_silhouette(dataframe, stack, predict):\n",
        "  \"\"\"\n",
        "  Pass in your dataframe, your feature array/matrix, \n",
        "  & your predictions, and this will use chunked_samples\n",
        "  to get your score & try to quickly form a matplotlib visual\n",
        "  Scores won't be 100% accurate as you cannot get pairwise distances \n",
        "  with chunking, but they use a sample size of 75,000 so they should\n",
        "  be close, and the decrease in accuracy is well worth the 6-7 hours\n",
        "  in speed it saves\n",
        "  \"\"\"\n",
        "  #first we calculate our silhouette scores \n",
        "  dataframe = chunked_samples(dataframe, stack, predict, False)\n",
        "  # convert our predictions and their scores to numpy arrays \n",
        "  predictions = dataframe.cluster.to_numpy()\n",
        "  silhouette_vals = dataframe.sil.to_numpy()\n",
        "  # get our labels \n",
        "  labels = np.unique(predictions)\n",
        "  # start plotting \n",
        "  y_ax_lower, y_ax_upper = 0, 0\n",
        "  yticks = []\n",
        "  # go through our labels and assign our predictions & values to them\n",
        "  for i, c in enumerate(labels):\n",
        "    c_silhouette_vals = silhouette_vals[predictions == c]\n",
        "    # sort to keeo our clusters together\n",
        "    c_silhouette_vals.sort()\n",
        "    # change plot size & ticks accordingly \n",
        "    y_ax_upper += len(c_silhouette_vals)\n",
        "    yticks.append((y_ax_lower + y_ax_upper) / 2.)\n",
        "    # get colors & plot! \n",
        "    color = cm.jet(float(i) / labels.shape[0])\n",
        "    plt.barh(range(y_ax_lower, y_ax_upper), c_silhouette_vals, \n",
        "              height=1.0, color=color)\n",
        "    y_ax_lower += len(c_silhouette_vals)\n",
        "  # find our average and visualize it \n",
        "  plt.axvline(np.mean(silhouette_vals), color=\"red\", linestyle=\"--\") \n",
        "  # fix up our labels and ticks \n",
        "  plt.yticks(yticks, labels + 1)\n",
        "  plt.ylabel('Cluster')\n",
        "  plt.xlabel('Silhouette Coefficient')\n",
        "  plt.show()"
      ],
      "id": "FOHsTy3AMAxj",
      "execution_count": 15,
      "outputs": []
    },
    {
      "cell_type": "code",
      "metadata": {
        "id": "K_QMEoRATu4b"
      },
      "source": [
        "def get_imb_clstr(dataframe):\n",
        "  \"\"\"\n",
        "  Pass in your dataframe and get the cluster with the most values in it \n",
        "  returned as an interger \n",
        "  \"\"\"\n",
        "  clstr = dataframe['cluster'].value_counts()\n",
        "  # largest cluster gets returned at the first index \n",
        "  clstr = int(clstr.to_frame().reset_index()['index'][0])\n",
        "  return clstr"
      ],
      "id": "K_QMEoRATu4b",
      "execution_count": 16,
      "outputs": []
    },
    {
      "cell_type": "code",
      "metadata": {
        "id": "_Qwr235BSOfM"
      },
      "source": [
        "def reset_clusters(new_predict, dataframe):\n",
        "  \"\"\"\n",
        "  Pass in your new predictions and your dataframe \n",
        "  and it will renumber all of your clusters. \n",
        "  Be sure to use this before making visuals, if you don't\n",
        "  clusters that have been reassigned will just appear to be missing.\n",
        "  Edits your dataframe inplace. This is intentionally slower in \n",
        "  the hopes of not crashing my ram by iterating over each line one by one\n",
        "  \"\"\"\n",
        "  # get a list of our starting clusters \n",
        "  _clusters = [int(x) for x in np.unique(new_predict)]\n",
        "  # generate a list of new clusters \n",
        "  _range = list(range(len(_clusters)))\n",
        "  to_rename = {}\n",
        "  # generate a dictionary with key value pairs of new : old clusters\n",
        "  for num in _range:\n",
        "    to_rename[_clusters[num]] = num + 1\n",
        "  # go through the dataframe and edit our clusters \n",
        "  for i in range(len(dataframe)):\n",
        "    dataframe.at[i, 'cluster'] = to_rename[dataframe.at[i, 'cluster']]"
      ],
      "id": "_Qwr235BSOfM",
      "execution_count": 17,
      "outputs": []
    },
    {
      "cell_type": "code",
      "metadata": {
        "id": "NIjCa_OgbPgu"
      },
      "source": [
        "def add_new_clst(df, dataframe, k, num_clust):\n",
        "  \"\"\"\n",
        "  Pass in your new predictions and your dataframe \n",
        "  and it will reassign the cluster you modeled to its new\n",
        "  cluster assignments. Edits dataframe inplace. \n",
        "  \"\"\"\n",
        "  # when generating new clusters after your first modeling \n",
        "  # you'll need to assign them to new unique cluster numbers \n",
        "  for i in df.index:\n",
        "    # use the id's we assigned earlier to match up our clusters\n",
        "    _id = df.at[i, 'id']\n",
        "    index = dataframe.loc[dataframe['id'] == _id].index[0]\n",
        "    # make sure we always get unique clusters, and that numbers being \n",
        "    # reassigned to the same cluster always turn out the same \n",
        "    n_cluster = (df.at[i, 'cluster'] + 2) * 10 + num_clust*2\n",
        "    # reassign our clusters \n",
        "    dataframe.at[index, 'cluster'] = n_cluster"
      ],
      "id": "NIjCa_OgbPgu",
      "execution_count": 18,
      "outputs": []
    },
    {
      "cell_type": "code",
      "metadata": {
        "id": "dATU7IFZyFQt"
      },
      "source": [
        "def clusterizer(matrix, dataframe, calc_k, k=3, display_elbow=False):\n",
        "  \"\"\"\n",
        "  Pass in your feature array/matrix and your dataframe\n",
        "  If you would like to have k be calculated for you using the \n",
        "  elbow method with a maximum number of 5 clusters, do so by\n",
        "  setting calc_k = True, otherwise, k will be 3 \n",
        "  \"\"\"\n",
        "  if calc_k:\n",
        "    if display_elbow:\n",
        "      k = plt_elbow(matrix, dataframe, True)\n",
        "    else:\n",
        "      k = plt_elbow(matrix, dataframe, False)\n",
        "  # making sure our dtypes always line up \n",
        "  if type(matrix) != np.ndarray:\n",
        "    matrix = matrix.toarray()\n",
        "  # we dont want our clusters to be imbalanced, so we want them\n",
        "  # to be roughly equal to the number of points/ number of clusters\n",
        "  shape = matrix.shape[0]\n",
        "  # start our k-means\n",
        "  kmeans = faiss.Kmeans(d = matrix.shape[1], k = k, nredo = 100,\n",
        "                        update_index = True, seed = 42, verbose=True,\n",
        "                        max_points_per_centroid = math.ceil(shape/k), \n",
        "                        niter = 20)\n",
        "  # train our k means \n",
        "  kmeans.train(matrix)\n",
        "  # get our predictions \n",
        "  predict = kmeans.index.search(matrix, 1)[1]\n",
        "  # assign them inplace to our dataframe \n",
        "  dataframe['cluster'] = predict\n",
        "  return kmeans, predict, k"
      ],
      "id": "dATU7IFZyFQt",
      "execution_count": 19,
      "outputs": []
    },
    {
      "cell_type": "code",
      "metadata": {
        "id": "Ry4hcyJaCtfH"
      },
      "source": [
        "def get_slice(df, cluster):\n",
        "  '''\n",
        "  Pass in your dataframe and return just the values predicted to be in the\n",
        "  largest cluster. \n",
        "  '''\n",
        "  return df.loc[df['cluster'] == cluster].reset_index(drop=True)"
      ],
      "id": "Ry4hcyJaCtfH",
      "execution_count": 20,
      "outputs": []
    },
    {
      "cell_type": "code",
      "metadata": {
        "id": "EXV15G7UwLFO"
      },
      "source": [
        "def showconfusionmatrix(y_t, y_hat_t, title):\n",
        "    \"\"\"\n",
        "    Plots confusion matrix for provided y_train, y_hat_train \n",
        "    OR y_test, y_hat_test using mlxtend \n",
        "    \"\"\"\n",
        "    # assign parameters to dictionary so line wont exceed 78 char\n",
        "    p = {conf_mat:confusion_matrix(y_t, y_hat_t), colorbar:True,\n",
        "         show_absolute:True, show_normed:True, cmap:'jet'}\n",
        "    # gather and plot confusion matrix \n",
        "    fig, ax = plot_confusion_matrix(**p)\n",
        "    # set title and axis names \n",
        "    ax.set_title(f'{title} Model')\n",
        "    ax.set_ylabel('Actual Data')\n",
        "    ax.set_xlabel('Predicted Data')\n",
        "    plt.show()"
      ],
      "id": "EXV15G7UwLFO",
      "execution_count": 21,
      "outputs": []
    },
    {
      "cell_type": "code",
      "metadata": {
        "id": "fFiBwa00MIlQ"
      },
      "source": [
        "def printscores(y_test, y_hat_test, X_test, y_train, \n",
        "                y_hat_train, X_train, model):\n",
        "    \"\"\"Uses sklearn.metrics to compute  testing and training scores  \n",
        "    Results include: Accuracy, Precision, Recall, F1, Residual Counts, \n",
        "    Residuals, CV Accuracy With Standard Deviation & R^2\"\"\"\n",
        "    print('_____________________________________________________')\n",
        "    print('Training Accuracy Score: ' + \n",
        "          str(round(accuracy_score(y_train, y_hat_train)* 100, 4)))\n",
        "    train_precision_scores = []\n",
        "    for item in precision_score(y_test, y_hat_test, average=None):\n",
        "      train_precision_scores.append(round(item, 2))\n",
        "    print('Training Precision Scores: ' + str(train_precision_scores))\n",
        "    train_recall_scores = []\n",
        "    for item in recall_score(y_test, y_hat_test, average=None):\n",
        "      train_recall_scores.append(round(item, 2))\n",
        "    print('Training Recall Scores: ' + str(train_recall_scores))\n",
        "    train_f1_scores = []\n",
        "    for item in f1_score(y_test, y_hat_test, average=None):\n",
        "      train_f1_scores.append(round(item, 2))\n",
        "    print('Training F1 Scores: ' + str(train_f1_scores))\n",
        "    print('_____________________________________________________')\n",
        "    trainresiduals = np.abs(y_train - y_hat_train)\n",
        "    print('Training residual counts:')\n",
        "    print(str(pd.Series(trainresiduals).value_counts())[:-29])\n",
        "    print('_____________________________________________________')\n",
        "    print('Testing Accuracy Score: ' + \n",
        "          str(round(accuracy_score(y_test, y_hat_test) * 100, 4)))\n",
        "    test_precision_scores = []\n",
        "    for item in precision_score(y_test, y_hat_test, average=None):\n",
        "      test_precision_scores.append(round(item, 2))\n",
        "    print('Testing Precision Scores: ' + str(test_precision_scores))\n",
        "    test_recall_scores = []\n",
        "    for item in recall_score(y_test, y_hat_test, average=None):\n",
        "      test_recall_scores.append(round(item, 2))\n",
        "    print('Testing Recall Scores: ' + str(test_recall_scores))\n",
        "    test_f1_scores = []\n",
        "    for item in f1_score(y_test, y_hat_test, average=None):\n",
        "      test_f1_scores.append(round(item, 2))\n",
        "    print('Testing F1 Scores: ' + str(test_f1_scores))\n",
        "    print('_____________________________________________________')\n",
        "    testresiduals = np.abs(y_test - y_hat_test)\n",
        "    print('Testing residual counts:')\n",
        "    print(str(pd.Series(testresiduals).value_counts())[:-29])\n",
        "    print('_____________________________________________________')\n",
        "    r2_scoretst = r2_score(y_test, y_hat_test)\n",
        "    print(f'Testing R2 Score: {round(r2_scoretst, 4)}')\n",
        "    r2_scoretrn = r2_score(y_train, y_hat_train)\n",
        "    print(f'Training R2 Score: {round(r2_scoretrn, 4)}')\n",
        "    print('_____________________________________________________')\n",
        "    print('Cross validated model accuracy:')\n",
        "    scores = cross_val_score(model, X_test, y_test, cv=10)\n",
        "    mean = round(scores.mean(), 4)\n",
        "    std = round(scores.std())\n",
        "    print(f'Testing: {mean} with a standard deviation of {std}')\n",
        "    scores = cross_val_score(model, X_train, y_train, cv=10)\n",
        "    mean = round(scores.mean(), 4)\n",
        "    std = round(scores.std())\n",
        "    print(f'Training: {mean} with a standard deviation of {std}')\n",
        "    print('_____________________________________________________')"
      ],
      "id": "fFiBwa00MIlQ",
      "execution_count": 22,
      "outputs": []
    },
    {
      "cell_type": "code",
      "metadata": {
        "id": "TopLihP1xE6T"
      },
      "source": [
        "def printreports(y_test, y_hat_test, y_train, y_hat_train):\n",
        "    \"\"\"\n",
        "    Provided all input & predicted y values, prints classification \n",
        "    report for training and testing data right next to each other\"\"\"\n",
        "    print('                                                      ')\n",
        "    print('               Testing Report:')\n",
        "    report1 = classification_report(y_test, y_hat_test)\n",
        "    print(report1)\n",
        "    print('_____________________________________________________')\n",
        "    print('               Training Report:')\n",
        "    report2 = classification_report(y_train, y_hat_train)\n",
        "    print(report2)\n",
        "    print('_____________________________________________________')"
      ],
      "id": "TopLihP1xE6T",
      "execution_count": 23,
      "outputs": []
    },
    {
      "cell_type": "markdown",
      "metadata": {
        "id": "-U8I9yQPkxNV"
      },
      "source": [
        "# Unsupervised Model Setup <p></p>\n",
        "First, we begin by opening up our data and doing some preprocessing, our data has already been cleaned and tokenized and lemmatized, so here we mostly focus on feature generation and dimensionality reduction"
      ],
      "id": "-U8I9yQPkxNV"
    },
    {
      "cell_type": "code",
      "metadata": {
        "id": "TdFIKg1Jl7oL"
      },
      "source": [
        "# open data, low_memory = False because we have some mixed dtype columns, \n",
        "# they aren't one's we use anyways so not worried sbout it \n",
        "df = pd.read_csv(\"Documents/flatiron/hospitality project/data/final_clean_6_word.csv\", \n",
        "                 low_memory=False)"
      ],
      "id": "TdFIKg1Jl7oL",
      "execution_count": 35,
      "outputs": []
    },
    {
      "cell_type": "code",
      "metadata": {
        "id": "Ji2W4fZz3-5-"
      },
      "source": [
        "# tokenize and preprocess our data, turning it into a matrix \n",
        "matrix, df = vect_and_stck(df, True)\n",
        "# taking an initial count to see how much we lose by the end \n",
        "start = [len(df), datetime.now()]"
      ],
      "id": "Ji2W4fZz3-5-",
      "execution_count": 36,
      "outputs": []
    },
    {
      "cell_type": "markdown",
      "metadata": {
        "id": "ITPqUYIXnJ22"
      },
      "source": [
        "# First Unsupervised Model \n",
        "\n"
      ],
      "id": "ITPqUYIXnJ22"
    },
    {
      "cell_type": "markdown",
      "metadata": {
        "id": "hggWoBq2nU-k"
      },
      "source": [
        "###Model Evaluation"
      ],
      "id": "hggWoBq2nU-k"
    },
    {
      "cell_type": "markdown",
      "metadata": {
        "id": "ncpTbsC3_vL0"
      },
      "source": [
        "Looking at our initial model, our clusters aren't particuarly well defined, and even with multiple attempts at what k should be, they're not showing any substantial improvement "
      ],
      "id": "ncpTbsC3_vL0"
    },
    {
      "cell_type": "code",
      "metadata": {
        "colab": {
          "base_uri": "https://localhost:8080/",
          "height": 297
        },
        "id": "AKu64pZ8_ilv",
        "outputId": "5f87ee68-654f-4c05-c629-91b81c0dc6df"
      },
      "source": [
        "# starting a baseline model for our initial model \n",
        "first_model = df.copy()\n",
        "first_means, predict, k = clusterizer(matrix, first_model,\n",
        "                                      True, display_elbow=True)"
      ],
      "id": "AKu64pZ8_ilv",
      "execution_count": 26,
      "outputs": [
        {
          "output_type": "stream",
          "text": [
            "Elbow 3\n"
          ],
          "name": "stdout"
        },
        {
          "output_type": "display_data",
          "data": {
            "text/plain": [
              "<Figure size 432x288 with 1 Axes>"
            ],
            "image/png": "[encoded data removed]"
          },
          "metadata": {
            "tags": [],
            "needs_background": "light"
          }
        }
      ]
    },
    {
      "cell_type": "code",
      "metadata": {
        "id": "6K65ktyBdOoT",
        "colab": {
          "base_uri": "https://localhost:8080/",
          "height": 279
        },
        "outputId": "1ba97c31-6dda-4b40-8956-20526d9476ab"
      },
      "source": [
        "# initial silhouette scores very low \n",
        "quick_silhouette(first_model, matrix, predict)"
      ],
      "id": "6K65ktyBdOoT",
      "execution_count": 27,
      "outputs": [
        {
          "output_type": "display_data",
          "data": {
            "text/plain": [
              "<Figure size 432x288 with 1 Axes>"
            ],
            "image/png": "[encoded data removed]"
          },
          "metadata": {
            "tags": [],
            "needs_background": "light"
          }
        }
      ]
    },
    {
      "cell_type": "markdown",
      "metadata": {
        "id": "0xjf_K0MndiT"
      },
      "source": [
        "#Unsupervised Model Refinement "
      ],
      "id": "0xjf_K0MndiT"
    },
    {
      "cell_type": "code",
      "metadata": {
        "id": "QC4xVX7zNmXu"
      },
      "source": [
        "# start our model & make our initial predictions \n",
        "second_means, predict, k = clusterizer(matrix, df, False)"
      ],
      "id": "QC4xVX7zNmXu",
      "execution_count": 37,
      "outputs": []
    },
    {
      "cell_type": "code",
      "metadata": {
        "id": "SSv2hL1e6Kvz"
      },
      "source": [
        "num_clust = 2\n",
        "cl = get_imb_clstr(df)\n",
        "# if our largest cluster is too large, we break it down into more clusters\n",
        "while len(get_slice(df, cl)) >= len(df)/num_clust-1 and num_clust <= 9:\n",
        "  # dropping outliers and shuffling our data  \n",
        "  df = chunked_samples(df, matrix, predict, True)\n",
        "  df = df.sample(frac=1).reset_index(drop=True)\n",
        "  # processing our data without outliers \n",
        "  matrix, df = vect_and_stck(df, False)\n",
        "  # re-modeling our data with less outliers \n",
        "  bttr_mn, bttr_prd, k = clusterizer(matrix, df, False, 3, False)\n",
        "  # slicing our dataframe to get disproportionate cluster\n",
        "  cl = get_imb_clstr(df)\n",
        "  cut_matrix, cut_df = vect_and_stck(get_slice(df, cl), False)\n",
        "  # plugging our new k value into a new model optimized for our cluster \n",
        "  clst_mn, clst_prd, k = clusterizer(cut_matrix, cut_df, True, 3, False)\n",
        "  # updating our original datframe with our new clusters clusters\n",
        "  add_new_clst(cut_df, df, k, num_clust)\n",
        "  # updating our predictions \n",
        "  predict = df['cluster'].to_numpy()\n",
        "  # updating our largest cluster \n",
        "  cl = get_imb_clstr(df)\n",
        "  # keeping a count of clusters\n",
        "  num_clust += k-1 "
      ],
      "id": "SSv2hL1e6Kvz",
      "execution_count": 38,
      "outputs": []
    },
    {
      "cell_type": "markdown",
      "metadata": {
        "id": "O5eB-nhJnxwB"
      },
      "source": [
        "### Model Evaluation"
      ],
      "id": "O5eB-nhJnxwB"
    },
    {
      "cell_type": "code",
      "metadata": {
        "id": "2WJKzCN8Vnw9",
        "colab": {
          "base_uri": "https://localhost:8080/",
          "height": 279
        },
        "outputId": "7fdbdeae-f3e3-419d-d598-a4dc88c52ed7"
      },
      "source": [
        "# grab our final clusters & plot our silhouettes \n",
        "predict = df['cluster'].to_numpy()\n",
        "reset_clusters(predict, df)\n",
        "quick_silhouette(df, matrix, predict)"
      ],
      "id": "2WJKzCN8Vnw9",
      "execution_count": 56,
      "outputs": [
        {
          "output_type": "display_data",
          "data": {
            "text/plain": [
              "<Figure size 432x288 with 1 Axes>"
            ],
            "image/png": "[encoded data removed]"
          },
          "metadata": {
            "tags": [],
            "needs_background": "light"
          }
        }
      ]
    },
    {
      "cell_type": "code",
      "metadata": {
        "id": "rzTI-7y1bxIz",
        "colab": {
          "base_uri": "https://localhost:8080/",
          "height": 0
        },
        "outputId": "9aa51f1d-0220-461b-9f2d-6629383cbdfe"
      },
      "source": [
        "# calculating how long our modeling took & how much data was lost\n",
        "end = [len(df), datetime.now()]\n",
        "time = end[1]-start[1]\n",
        "print(f' {round(end[0]/start[0], 4)}% Unclassifiable')\n",
        "print(f' Model took {round(time.total_seconds()/60, 2)} min to complete')"
      ],
      "id": "rzTI-7y1bxIz",
      "execution_count": 58,
      "outputs": [
        {
          "output_type": "stream",
          "text": [
            " 0.5903% Unclassifiable\n",
            " Model took 126.75 min to complete\n"
          ],
          "name": "stdout"
        }
      ]
    },
    {
      "cell_type": "markdown",
      "metadata": {
        "id": "aXE3AJ786lBz"
      },
      "source": [
        "Our model showed substantial improvement after iterating through & reclustering, losing minimal amounts of data. With our mean silhouette scores looking good and in a reasonable range, we move on to taking a look at visulizing our clusters and descerning the differences between them, which you can find in our notebook /wordclouds.ipynb"
      ],
      "id": "aXE3AJ786lBz"
    },
    {
      "cell_type": "markdown",
      "metadata": {
        "id": "m21xfMJ6n6yT"
      },
      "source": [
        "# Bayesian Modeling"
      ],
      "id": "m21xfMJ6n6yT"
    },
    {
      "cell_type": "markdown",
      "metadata": {
        "id": "NMj8TPvlVz-x"
      },
      "source": [
        "We chose bayesian modeling because it is said to work especially well for natural language processing, 2 of the methods available from Sklearn were not compatible with our data, but the other 2 are tested & refined below. "
      ],
      "id": "NMj8TPvlVz-x"
    },
    {
      "cell_type": "code",
      "metadata": {
        "id": "TtG1WO8QjTLA"
      },
      "source": [
        "# since we have a bit of a class imbalance that we want to fix \n",
        "# we're going to do a combination of upsampling and unsampling\n",
        "# to even them out without overdoing it\n",
        "smote = SMOTEENN()\n",
        "\n",
        "X_train, X_test, y_train, y_test = train_test_split(matrix, \n",
        "                                                    predict,\n",
        "                                                    random_state=42)\n",
        "# we're only applying this to our training data, so we don't leak\n",
        "# anything over into our test that could cause overfitting \n",
        "X_train, y_train = smote.fit_resample(X_train, y_train)"
      ],
      "id": "TtG1WO8QjTLA",
      "execution_count": 60,
      "outputs": []
    },
    {
      "cell_type": "markdown",
      "metadata": {
        "id": "w1BRcO7boKL4"
      },
      "source": [
        "### Testing models \n",
        "There are our baseline models for making predictions off of our data"
      ],
      "id": "w1BRcO7boKL4"
    },
    {
      "cell_type": "code",
      "metadata": {
        "id": "Y-qfI_OlYv2Q"
      },
      "source": [
        "# the baseline model is actually incredibly close to our results \n",
        "# while tuning it we discovered a few variables that did have considerable\n",
        "# effect, so here is one to help showcase the difference \n",
        "gau_model = GaussianNB(var_smoothing=1)\n",
        "y_hat_test = gau_model.fit(X_train, y_train).predict(X_test)\n",
        "y_hat_train = gau_model.predict(X_train)"
      ],
      "id": "Y-qfI_OlYv2Q",
      "execution_count": 61,
      "outputs": []
    },
    {
      "cell_type": "code",
      "metadata": {
        "id": "onMWKdSmH4NV",
        "colab": {
          "base_uri": "https://localhost:8080/",
          "height": 295
        },
        "outputId": "f15da85d-1d06-4b0a-c060-d0ecd2fd503f"
      },
      "source": [
        "showconfusionmatrix(y_test, y_hat_test, 'Gaussian')\n",
        "# certainly too good to be true "
      ],
      "id": "onMWKdSmH4NV",
      "execution_count": 62,
      "outputs": [
        {
          "output_type": "display_data",
          "data": {
            "text/plain": [
              "<Figure size 432x288 with 2 Axes>"
            ],
            "image/png": "[encoded data removed]"
          },
          "metadata": {
            "tags": [],
            "needs_background": "light"
          }
        }
      ]
    },
    {
      "cell_type": "code",
      "metadata": {
        "id": "NxVDkcuG12xV",
        "colab": {
          "base_uri": "https://localhost:8080/",
          "height": 0
        },
        "outputId": "8fff6bda-1368-457a-f318-0df023bc78da"
      },
      "source": [
        "print('                Gaussian Model')\n",
        "print('          __________________________')\n",
        "printscores(y_test, y_hat_test, X_test, y_train, y_hat_train, X_train, gau_model)"
      ],
      "id": "NxVDkcuG12xV",
      "execution_count": 64,
      "outputs": [
        {
          "output_type": "stream",
          "text": [
            "                Gaussian Model\n",
            "          __________________________\n",
            "_____________________________________________________\n",
            "Training Accuracy Score: 99.9006\n",
            "Training Precision Scores: [1.0, 1.0, 0.98, 1.0, 1.0]\n",
            "Training Recall Scores: [1.0, 1.0, 1.0, 1.0, 0.99]\n",
            "Training F1 Scores: [1.0, 1.0, 0.99, 1.0, 1.0]\n",
            "_____________________________________________________\n",
            "Training residual counts:\n",
            "0    30\n",
            "_____________________________________________________\n",
            "Testing Accuracy Score: 99.8042\n",
            "Testing Precision Scores: [1.0, 1.0, 0.98, 1.0, 1.0]\n",
            "Testing Recall Scores: [1.0, 1.0, 1.0, 1.0, 0.99]\n",
            "Testing F1 Scores: [1.0, 1.0, 0.99, 1.0, 1.0]\n",
            "_____________________________________________________\n",
            "Testing residual counts:\n",
            "0    \n",
            "_____________________________________________________\n",
            "Testing R2 Score: 0.9966\n",
            "Training R2 Score: 0.998\n",
            "_____________________________________________________\n",
            "Cross validated model accuracy:\n",
            "Testing: 0.7858 with a standard deviation of 0.0\n",
            "Training: 0.999 with a standard deviation of 0.0\n",
            "_____________________________________________________\n"
          ],
          "name": "stdout"
        }
      ]
    },
    {
      "cell_type": "markdown",
      "metadata": {
        "id": "ypfjVtNY1ryA"
      },
      "source": [
        "As you can see from our scores, this model is way too good to be true and is not producing a consistent output despite its high scores "
      ],
      "id": "ypfjVtNY1ryA"
    },
    {
      "cell_type": "code",
      "metadata": {
        "id": "tGWnhoXZnJwN"
      },
      "source": [
        "bern_model = BernoulliNB()\n",
        "y_hat_test = bern_model.fit(X_train, y_train).predict(X_test)\n",
        "y_hat_train = bern_model.predict(X_train)"
      ],
      "id": "tGWnhoXZnJwN",
      "execution_count": 65,
      "outputs": []
    },
    {
      "cell_type": "code",
      "metadata": {
        "colab": {
          "base_uri": "https://localhost:8080/",
          "height": 295
        },
        "id": "9BkkMhjdbgtk",
        "outputId": "75d0b7a0-c368-4a1a-f250-67a4391ec3c7"
      },
      "source": [
        "showconfusionmatrix(y_test, y_hat_test, 'Bernoulli')"
      ],
      "id": "9BkkMhjdbgtk",
      "execution_count": 66,
      "outputs": [
        {
          "output_type": "display_data",
          "data": {
            "text/plain": [
              "<Figure size 432x288 with 2 Axes>"
            ],
            "image/png": "[encoded data removed]"
          },
          "metadata": {
            "tags": [],
            "needs_background": "light"
          }
        }
      ]
    },
    {
      "cell_type": "code",
      "metadata": {
        "colab": {
          "base_uri": "https://localhost:8080/",
          "height": 0
        },
        "id": "udfNExyYwT5j",
        "outputId": "923c2a61-62ea-4efd-9531-0255642b5501"
      },
      "source": [
        "print('                Bernoulli Model')\n",
        "print('          __________________________')\n",
        "printreports(y_test, y_hat_test, y_train, y_hat_train)"
      ],
      "id": "udfNExyYwT5j",
      "execution_count": 67,
      "outputs": [
        {
          "output_type": "stream",
          "text": [
            "                Bernoulli Model\n",
            "          __________________________\n",
            "                                                      \n",
            "               Testing Report:\n",
            "              precision    recall  f1-score   support\n",
            "\n",
            "           1       1.00      0.98      0.99      9384\n",
            "           2       0.53      0.36      0.43      7782\n",
            "           3       0.70      0.86      0.77      5388\n",
            "           4       0.64      0.80      0.71     11130\n",
            "           5       0.96      0.90      0.93     20440\n",
            "\n",
            "    accuracy                           0.81     54124\n",
            "   macro avg       0.77      0.78      0.77     54124\n",
            "weighted avg       0.81      0.81      0.81     54124\n",
            "\n",
            "_____________________________________________________\n",
            "               Training Report:\n",
            "              precision    recall  f1-score   support\n",
            "\n",
            "           1       1.00      0.98      0.99     61186\n",
            "           2       0.62      0.37      0.46     61186\n",
            "           3       0.91      0.87      0.89     60348\n",
            "           4       0.56      0.80      0.66     61185\n",
            "           5       0.88      0.91      0.89     58953\n",
            "\n",
            "    accuracy                           0.79    302858\n",
            "   macro avg       0.79      0.79      0.78    302858\n",
            "weighted avg       0.79      0.79      0.78    302858\n",
            "\n",
            "_____________________________________________________\n"
          ],
          "name": "stdout"
        }
      ]
    },
    {
      "cell_type": "code",
      "metadata": {
        "colab": {
          "base_uri": "https://localhost:8080/",
          "height": 0
        },
        "id": "MKe51LOJwce7",
        "outputId": "66dc3e3d-bb58-4340-a9ce-f03f71e9e77c"
      },
      "source": [
        "print('                Bernoulli Model')\n",
        "print('          __________________________')\n",
        "printscores(y_test, y_hat_test, X_test, y_train, y_hat_train, X_train, bern_model)"
      ],
      "id": "MKe51LOJwce7",
      "execution_count": 69,
      "outputs": [
        {
          "output_type": "stream",
          "text": [
            "                Bernoulli Model\n",
            "          __________________________\n",
            "_____________________________________________________\n",
            "Training Accuracy Score: 78.5124\n",
            "Training Precision Scores: [1.0, 0.53, 0.7, 0.64, 0.96]\n",
            "Training Recall Scores: [0.98, 0.36, 0.86, 0.8, 0.9]\n",
            "Training F1 Scores: [0.99, 0.43, 0.77, 0.71, 0.93]\n",
            "_____________________________________________________\n",
            "Training residual counts:\n",
            "0    237781\n",
            "2     6\n",
            "_____________________________________________________\n",
            "Testing Accuracy Score: 81.1193\n",
            "Testing Precision Scores: [1.0, 0.53, 0.7, 0.64, 0.96]\n",
            "Testing Recall Scores: [0.98, 0.36, 0.86, 0.8, 0.9]\n",
            "Testing F1 Scores: [0.99, 0.43, 0.77, 0.71, 0.93]\n",
            "_____________________________________________________\n",
            "Testing residual counts:\n",
            "0    43905\n",
            "2    \n",
            "_____________________________________________________\n",
            "Testing R2 Score: 0.6812\n",
            "Training R2 Score: 0.5753\n",
            "_____________________________________________________\n",
            "Cross validated model accuracy:\n",
            "Testing: 0.8185 with a standard deviation of 0.0\n",
            "Training: 0.7848 with a standard deviation of 0.0\n",
            "_____________________________________________________\n"
          ],
          "name": "stdout"
        }
      ]
    },
    {
      "cell_type": "markdown",
      "metadata": {
        "id": "Vy3YVCjA2lVZ"
      },
      "source": [
        "This model is only slightly better than random chance overall, and in some clusters, it's even worse! Certainly not the route we want to be going. "
      ],
      "id": "Vy3YVCjA2lVZ"
    },
    {
      "cell_type": "markdown",
      "metadata": {
        "id": "_U9svqARw5mL"
      },
      "source": [
        "##Final Model"
      ],
      "id": "_U9svqARw5mL"
    },
    {
      "cell_type": "markdown",
      "metadata": {
        "id": "I_yAH1EO201x"
      },
      "source": [
        "Here, with a slight parameter tune, we see our final model come into realization with solid, consistent results. "
      ],
      "id": "I_yAH1EO201x"
    },
    {
      "cell_type": "code",
      "metadata": {
        "id": "Tl2eP8g0w46l"
      },
      "source": [
        "final_model = GaussianNB(var_smoothing= 1e-200)\n",
        "y_hat_test = final_model.fit(X_train, y_train).predict(X_test)\n",
        "y_hat_train = final_model.predict(X_train)"
      ],
      "id": "Tl2eP8g0w46l",
      "execution_count": 70,
      "outputs": []
    },
    {
      "cell_type": "markdown",
      "metadata": {
        "id": "zYF_pQbWarDB"
      },
      "source": [
        "Evaluation"
      ],
      "id": "zYF_pQbWarDB"
    },
    {
      "cell_type": "code",
      "metadata": {
        "colab": {
          "base_uri": "https://localhost:8080/",
          "height": 295
        },
        "id": "i_vgPOLDy7Gq",
        "outputId": "05de6779-a82e-42ec-c1a3-8c5607b2598f"
      },
      "source": [
        "showconfusionmatrix(y_test, y_hat_test, 'Gaussian')"
      ],
      "id": "i_vgPOLDy7Gq",
      "execution_count": 71,
      "outputs": [
        {
          "output_type": "display_data",
          "data": {
            "text/plain": [
              "<Figure size 432x288 with 2 Axes>"
            ],
            "image/png": "[encoded data removed]"
          },
          "metadata": {
            "tags": [],
            "needs_background": "light"
          }
        }
      ]
    },
    {
      "cell_type": "code",
      "metadata": {
        "colab": {
          "base_uri": "https://localhost:8080/",
          "height": 0
        },
        "id": "JMBZeCU7wysn",
        "outputId": "3bf65a67-7c88-44a0-8385-2b054ab24e92"
      },
      "source": [
        "print('             Final Gaussian Model')\n",
        "print('          __________________________')\n",
        "printreports(y_test, y_hat_test, y_train, y_hat_train)"
      ],
      "id": "JMBZeCU7wysn",
      "execution_count": 72,
      "outputs": [
        {
          "output_type": "stream",
          "text": [
            "             Final Gaussian Model\n",
            "          __________________________\n",
            "                                                      \n",
            "               Testing Report:\n",
            "              precision    recall  f1-score   support\n",
            "\n",
            "           1       1.00      0.95      0.97      9384\n",
            "           2       0.94      1.00      0.97      7782\n",
            "           3       0.56      0.87      0.68      5388\n",
            "           4       1.00      1.00      1.00     11130\n",
            "           5       0.96      0.82      0.88     20440\n",
            "\n",
            "    accuracy                           0.91     54124\n",
            "   macro avg       0.89      0.93      0.90     54124\n",
            "weighted avg       0.93      0.91      0.92     54124\n",
            "\n",
            "_____________________________________________________\n",
            "               Training Report:\n",
            "              precision    recall  f1-score   support\n",
            "\n",
            "           1       1.00      0.95      0.97     61186\n",
            "           2       0.95      1.00      0.98     61186\n",
            "           3       0.84      0.86      0.85     60348\n",
            "           4       1.00      1.00      1.00     61185\n",
            "           5       0.86      0.83      0.84     58953\n",
            "\n",
            "    accuracy                           0.93    302858\n",
            "   macro avg       0.93      0.93      0.93    302858\n",
            "weighted avg       0.93      0.93      0.93    302858\n",
            "\n",
            "_____________________________________________________\n"
          ],
          "name": "stdout"
        }
      ]
    },
    {
      "cell_type": "code",
      "metadata": {
        "colab": {
          "base_uri": "https://localhost:8080/",
          "height": 0
        },
        "id": "QqmtK0bBxPut",
        "outputId": "4205a23f-062e-45aa-f4b3-33126355926e"
      },
      "source": [
        "print('             Final Gaussian Model')\n",
        "print('          __________________________')\n",
        "printscores(y_test, y_hat_test, X_test, \n",
        "            y_train, y_hat_train, X_train, final_model)"
      ],
      "id": "QqmtK0bBxPut",
      "execution_count": 74,
      "outputs": [
        {
          "output_type": "stream",
          "text": [
            "             Final Gaussian Model\n",
            "          __________________________\n",
            "_____________________________________________________\n",
            "Training Accuracy Score: 93.0278\n",
            "Training Precision Scores: [1.0, 0.94, 0.56, 1.0, 0.96]\n",
            "Training Recall Scores: [0.95, 1.0, 0.87, 1.0, 0.82]\n",
            "Training F1 Scores: [0.97, 0.97, 0.68, 1.0, 0.88]\n",
            "_____________________________________________________\n",
            "Training residual counts:\n",
            "0    281742\n",
            "2     1\n",
            "_____________________________________________________\n",
            "Testing Accuracy Score: 90.9892\n",
            "Testing Precision Scores: [1.0, 0.94, 0.56, 1.0, 0.96]\n",
            "Testing Recall Scores: [0.95, 1.0, 0.87, 1.0, 0.82]\n",
            "Testing F1 Scores: [0.97, 0.97, 0.68, 1.0, 0.88]\n",
            "_____________________________________________________\n",
            "Testing residual counts:\n",
            "0    49247\n",
            "2    \n",
            "_____________________________________________________\n",
            "Testing R2 Score: 0.8572\n",
            "Training R2 Score: 0.875\n",
            "_____________________________________________________\n",
            "Cross validated model accuracy:\n",
            "Testing: 0.9145 with a standard deviation of 0.0\n",
            "Training: 0.93 with a standard deviation of 0.0\n",
            "_____________________________________________________\n"
          ],
          "name": "stdout"
        }
      ]
    },
    {
      "cell_type": "markdown",
      "metadata": {
        "id": "jI0zYXRRRFHC"
      },
      "source": [
        "In conclusion, <p>\n",
        "Even though we failed to find ***strong*** sentiment between our clusters, our model itself found clear enough differences between them to make meaningful and replicable predictions and the knowledge we came away from this with has given us great inspiration to make buisness reccomendations that will help your company move forward in the growing space hospitality industry. <p>\n",
        "Our reccomendations are:\n",
        "\n",
        "\n",
        "1.   Leverage use of the word 'Space'\n",
        "Space is the most commonly found word within the discourse, with that in mind, tagging along a positive sentiment will continue to build a positive arena around space and space travel & extend your reach to the largest audience.\n",
        "\n",
        "\n",
        "2.   Evoke emotion and drive the conversation. \n",
        " Customers think with their hearts, and by utilizing words like “love”, which are some of the most popular non-science words we found, you are likely to create a positive sentiment around your product. That positive emotional response adds tremendous value to your marketing capabilities.\n",
        "\n",
        "\n",
        "3.   Partner with the best\n",
        "Institutions like NASA and SpaceX not only have scientific headway, but they have built reputations. If you want to get people talking about you, working with buisnesses they already support can help extend your reach, as even with the variation between our clusters, the big names in them stay rather consistent. <p></p>\n",
        "<p></p>\n",
        "We look forward to working with you and appreciate your time.\n",
        "Thank you. <p>"
      ],
      "id": "jI0zYXRRRFHC"
    }
  ]
}